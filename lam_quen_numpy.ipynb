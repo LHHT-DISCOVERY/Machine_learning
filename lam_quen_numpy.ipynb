{
 "cells": [
  {
   "cell_type": "code",
   "execution_count": 128,
   "id": "e5589dcc",
   "metadata": {},
   "outputs": [],
   "source": [
    "import numpy as np"
   ]
  },
  {
   "cell_type": "code",
   "execution_count": 129,
   "id": "43110a3d",
   "metadata": {},
   "outputs": [
    {
     "data": {
      "text/plain": [
       "array([1, 2, 3, 4])"
      ]
     },
     "execution_count": 129,
     "metadata": {},
     "output_type": "execute_result"
    }
   ],
   "source": [
    "np.array([1,2,3,4])"
   ]
  },
  {
   "cell_type": "code",
   "execution_count": 130,
   "id": "725da320",
   "metadata": {},
   "outputs": [
    {
     "data": {
      "text/plain": [
       "[3.14, 4, 2.3]"
      ]
     },
     "execution_count": 130,
     "metadata": {},
     "output_type": "execute_result"
    }
   ],
   "source": [
    "[3.14,4,2.3]"
   ]
  },
  {
   "cell_type": "code",
   "execution_count": 131,
   "id": "3de18b6e",
   "metadata": {},
   "outputs": [
    {
     "data": {
      "text/plain": [
       "array([3.14, 4.  , 2.  , 3.  ])"
      ]
     },
     "execution_count": 131,
     "metadata": {},
     "output_type": "execute_result"
    }
   ],
   "source": [
    "np.array([3.14,4,2,3] )"
   ]
  },
  {
   "cell_type": "code",
   "execution_count": 132,
   "id": "a5abe8ac",
   "metadata": {},
   "outputs": [
    {
     "data": {
      "text/plain": [
       "array([3.14, 4.  , 3.  , 2.  ], dtype=float32)"
      ]
     },
     "execution_count": 132,
     "metadata": {},
     "output_type": "execute_result"
    }
   ],
   "source": [
    "np.array([3.14 , 4,3,2] ,dtype = \"float32\")"
   ]
  },
  {
   "cell_type": "code",
   "execution_count": 133,
   "id": "a2f82c67",
   "metadata": {},
   "outputs": [],
   "source": [
    "a1 = np.array([1,2,3,4])"
   ]
  },
  {
   "cell_type": "code",
   "execution_count": 134,
   "id": "9d56e051",
   "metadata": {},
   "outputs": [
    {
     "name": "stdout",
     "output_type": "stream",
     "text": [
      "<class 'numpy.ndarray'>\n"
     ]
    }
   ],
   "source": [
    "print(type(a1))"
   ]
  },
  {
   "cell_type": "code",
   "execution_count": 135,
   "id": "d767322e",
   "metadata": {},
   "outputs": [],
   "source": [
    "a2 = np.array([[1,2,3],\n",
    "             [4,5,6]])"
   ]
  },
  {
   "cell_type": "code",
   "execution_count": 136,
   "id": "46274ca6",
   "metadata": {},
   "outputs": [
    {
     "name": "stdout",
     "output_type": "stream",
     "text": [
      "<class 'numpy.ndarray'>\n"
     ]
    }
   ],
   "source": [
    "print(type(a2))"
   ]
  },
  {
   "cell_type": "code",
   "execution_count": 137,
   "id": "1fd41732",
   "metadata": {},
   "outputs": [
    {
     "data": {
      "text/plain": [
       "numpy.ndarray"
      ]
     },
     "execution_count": 137,
     "metadata": {},
     "output_type": "execute_result"
    }
   ],
   "source": [
    "type(a2)"
   ]
  },
  {
   "cell_type": "code",
   "execution_count": 138,
   "id": "176ff2bb",
   "metadata": {},
   "outputs": [
    {
     "data": {
      "text/plain": [
       "(2, 3)"
      ]
     },
     "execution_count": 138,
     "metadata": {},
     "output_type": "execute_result"
    }
   ],
   "source": [
    "a2.shape # tinh xem a2 bao nhieeu cot bao nhieeu dong"
   ]
  },
  {
   "cell_type": "code",
   "execution_count": 139,
   "id": "29d9b487",
   "metadata": {},
   "outputs": [
    {
     "data": {
      "text/plain": [
       "2"
      ]
     },
     "execution_count": 139,
     "metadata": {},
     "output_type": "execute_result"
    }
   ],
   "source": [
    "a2.ndim # so chieu cua mang"
   ]
  },
  {
   "cell_type": "code",
   "execution_count": 140,
   "id": "89598576",
   "metadata": {},
   "outputs": [
    {
     "data": {
      "text/plain": [
       "dtype('int32')"
      ]
     },
     "execution_count": 140,
     "metadata": {},
     "output_type": "execute_result"
    }
   ],
   "source": [
    "a2.dtype"
   ]
  },
  {
   "cell_type": "code",
   "execution_count": 141,
   "id": "ca286292",
   "metadata": {},
   "outputs": [
    {
     "data": {
      "text/plain": [
       "dtype('int32')"
      ]
     },
     "execution_count": 141,
     "metadata": {},
     "output_type": "execute_result"
    }
   ],
   "source": [
    "a1.dtype"
   ]
  },
  {
   "cell_type": "code",
   "execution_count": 142,
   "id": "dde093d0",
   "metadata": {},
   "outputs": [
    {
     "data": {
      "text/plain": [
       "4"
      ]
     },
     "execution_count": 142,
     "metadata": {},
     "output_type": "execute_result"
    }
   ],
   "source": [
    "a1.size"
   ]
  },
  {
   "cell_type": "code",
   "execution_count": 143,
   "id": "9fa2ce90",
   "metadata": {},
   "outputs": [
    {
     "data": {
      "text/plain": [
       "6"
      ]
     },
     "execution_count": 143,
     "metadata": {},
     "output_type": "execute_result"
    }
   ],
   "source": [
    "a2.size"
   ]
  },
  {
   "cell_type": "markdown",
   "id": "d9fcc215",
   "metadata": {},
   "source": [
    "# creating Numpy Arrays form Scratch\n",
    "ZERO, ONES , FULL , ARANGE , LINSPACE"
   ]
  },
  {
   "cell_type": "code",
   "execution_count": 144,
   "id": "a9b49445",
   "metadata": {},
   "outputs": [
    {
     "data": {
      "text/plain": [
       "array([[0., 0., 0.],\n",
       "       [0., 0., 0.]])"
      ]
     },
     "execution_count": 144,
     "metadata": {},
     "output_type": "execute_result"
    }
   ],
   "source": [
    "# tao mang toan so 0\n",
    "np.zeros([2,3])"
   ]
  },
  {
   "cell_type": "code",
   "execution_count": 145,
   "id": "3075009c",
   "metadata": {},
   "outputs": [
    {
     "data": {
      "text/plain": [
       "array([[0, 0, 0],\n",
       "       [0, 0, 0],\n",
       "       [0, 0, 0]])"
      ]
     },
     "execution_count": 145,
     "metadata": {},
     "output_type": "execute_result"
    }
   ],
   "source": [
    "# tao mang toan so 0\n",
    "np.zeros((3,3),dtype=int)"
   ]
  },
  {
   "cell_type": "code",
   "execution_count": 146,
   "id": "abe3c0e8",
   "metadata": {},
   "outputs": [
    {
     "data": {
      "text/plain": [
       "array([[1., 1., 1.],\n",
       "       [1., 1., 1.]])"
      ]
     },
     "execution_count": 146,
     "metadata": {},
     "output_type": "execute_result"
    }
   ],
   "source": [
    "np.ones([2,3] , dtype = float)"
   ]
  },
  {
   "cell_type": "code",
   "execution_count": 147,
   "id": "de6b4101",
   "metadata": {},
   "outputs": [
    {
     "data": {
      "text/plain": [
       "array([ 0,  2,  4,  6,  8, 10, 12, 14, 16, 18])"
      ]
     },
     "execution_count": 147,
     "metadata": {},
     "output_type": "execute_result"
    }
   ],
   "source": [
    "np.arange(0,20,2)"
   ]
  },
  {
   "cell_type": "code",
   "execution_count": 148,
   "id": "cdc23386",
   "metadata": {},
   "outputs": [
    {
     "data": {
      "text/plain": [
       "array([[6.9, 6.9, 6.9, 6.9],\n",
       "       [6.9, 6.9, 6.9, 6.9],\n",
       "       [6.9, 6.9, 6.9, 6.9]])"
      ]
     },
     "execution_count": 148,
     "metadata": {},
     "output_type": "execute_result"
    }
   ],
   "source": [
    "np.full((3,4),6.9)"
   ]
  },
  {
   "cell_type": "code",
   "execution_count": 149,
   "id": "fc966a86",
   "metadata": {},
   "outputs": [
    {
     "data": {
      "text/plain": [
       "array([0.  , 0.25, 0.5 , 0.75, 1.  ])"
      ]
     },
     "execution_count": 149,
     "metadata": {},
     "output_type": "execute_result"
    }
   ],
   "source": [
    "np.linspace(0,1,5) # bat dau 0 ket thuc 1 , 5 phan tu co khoang cach bang nhau"
   ]
  },
  {
   "cell_type": "markdown",
   "id": "17ed8c79",
   "metadata": {},
   "source": [
    "### ham random "
   ]
  },
  {
   "cell_type": "code",
   "execution_count": 150,
   "id": "1affdee4",
   "metadata": {},
   "outputs": [
    {
     "data": {
      "text/plain": [
       "array([[0.52889492, 0.56804456, 0.92559664, 0.07103606],\n",
       "       [0.0871293 , 0.0202184 , 0.83261985, 0.77815675],\n",
       "       [0.87001215, 0.97861834, 0.79915856, 0.46147936],\n",
       "       [0.78052918, 0.11827443, 0.63992102, 0.14335329]])"
      ]
     },
     "execution_count": 150,
     "metadata": {},
     "output_type": "execute_result"
    }
   ],
   "source": [
    "np.random.random((4,4))"
   ]
  },
  {
   "cell_type": "code",
   "execution_count": 151,
   "id": "c10a2df3",
   "metadata": {},
   "outputs": [],
   "source": [
    "# seed"
   ]
  },
  {
   "cell_type": "code",
   "execution_count": 152,
   "id": "cc04f3a7",
   "metadata": {},
   "outputs": [
    {
     "data": {
      "text/plain": [
       "array([[0.5488135 , 0.71518937, 0.60276338, 0.54488318],\n",
       "       [0.4236548 , 0.64589411, 0.43758721, 0.891773  ],\n",
       "       [0.96366276, 0.38344152, 0.79172504, 0.52889492],\n",
       "       [0.56804456, 0.92559664, 0.07103606, 0.0871293 ]])"
      ]
     },
     "execution_count": 152,
     "metadata": {},
     "output_type": "execute_result"
    }
   ],
   "source": [
    "np.random.seed(0)\n",
    "np.random.random((4,4))"
   ]
  },
  {
   "cell_type": "code",
   "execution_count": 153,
   "id": "6889c650",
   "metadata": {},
   "outputs": [
    {
     "data": {
      "text/plain": [
       "array([[ 0.44386323,  0.33367433,  1.49407907],\n",
       "       [-0.20515826,  0.3130677 , -0.85409574],\n",
       "       [-2.55298982,  0.6536186 ,  0.8644362 ]])"
      ]
     },
     "execution_count": 153,
     "metadata": {},
     "output_type": "execute_result"
    }
   ],
   "source": [
    "np.random.normal(0,1,(3,3)) # "
   ]
  },
  {
   "cell_type": "code",
   "execution_count": 154,
   "id": "d9e1c8b8",
   "metadata": {},
   "outputs": [
    {
     "data": {
      "text/plain": [
       "array([[7, 2, 0, 0, 4],\n",
       "       [5, 5, 6, 8, 4],\n",
       "       [1, 4, 9, 8, 1],\n",
       "       [1, 7, 9, 9, 3]])"
      ]
     },
     "execution_count": 154,
     "metadata": {},
     "output_type": "execute_result"
    }
   ],
   "source": [
    "# np.random.seed(0)\n",
    "np.random.randint(0,10,(4,5)) # 4 hang 5 cot ,tu 0->10 nhung ko bao gom 10"
   ]
  },
  {
   "cell_type": "code",
   "execution_count": 155,
   "id": "784945de",
   "metadata": {
    "scrolled": true
   },
   "outputs": [
    {
     "data": {
      "text/plain": [
       "array([[0.65314004, 0.17090959, 0.35815217, 0.75068614],\n",
       "       [0.60783067, 0.32504723, 0.03842543, 0.63427406],\n",
       "       [0.95894927, 0.65279032, 0.63505887, 0.99529957],\n",
       "       [0.58185033, 0.41436859, 0.4746975 , 0.6235101 ]])"
      ]
     },
     "execution_count": 155,
     "metadata": {},
     "output_type": "execute_result"
    }
   ],
   "source": [
    "# ngoai ra \n",
    "np.random.rand(4,4)"
   ]
  },
  {
   "cell_type": "markdown",
   "id": "c66725d2",
   "metadata": {},
   "source": [
    "# Array Indexing & Slicing\n",
    "\n",
    "One - dimenstion subarray"
   ]
  },
  {
   "cell_type": "code",
   "execution_count": 156,
   "id": "787bd21c",
   "metadata": {},
   "outputs": [
    {
     "data": {
      "text/plain": [
       "array([15, 15, 10, 11, 15, 19])"
      ]
     },
     "execution_count": 156,
     "metadata": {},
     "output_type": "execute_result"
    }
   ],
   "source": [
    "import numpy as np\n",
    "x1 = np.random.randint(10,20, size = 6)\n",
    "x1 "
   ]
  },
  {
   "cell_type": "code",
   "execution_count": 157,
   "id": "9f125a6c",
   "metadata": {},
   "outputs": [
    {
     "data": {
      "text/plain": [
       "15"
      ]
     },
     "execution_count": 157,
     "metadata": {},
     "output_type": "execute_result"
    }
   ],
   "source": [
    "x1[4]"
   ]
  },
  {
   "cell_type": "code",
   "execution_count": 158,
   "id": "aae76d23",
   "metadata": {},
   "outputs": [
    {
     "data": {
      "text/plain": [
       "15"
      ]
     },
     "execution_count": 158,
     "metadata": {},
     "output_type": "execute_result"
    }
   ],
   "source": [
    "x1[0]"
   ]
  },
  {
   "cell_type": "code",
   "execution_count": 159,
   "id": "a86dacb0",
   "metadata": {},
   "outputs": [
    {
     "data": {
      "text/plain": [
       "19"
      ]
     },
     "execution_count": 159,
     "metadata": {},
     "output_type": "execute_result"
    }
   ],
   "source": [
    "x1[-1]"
   ]
  },
  {
   "cell_type": "markdown",
   "id": "c31c6a57",
   "metadata": {},
   "source": [
    "# multi_dimenstion array"
   ]
  },
  {
   "cell_type": "code",
   "execution_count": 160,
   "id": "762bf425",
   "metadata": {},
   "outputs": [
    {
     "data": {
      "text/plain": [
       "array([[3, 0, 5, 0],\n",
       "       [1, 2, 4, 2],\n",
       "       [0, 3, 2, 0]])"
      ]
     },
     "execution_count": 160,
     "metadata": {},
     "output_type": "execute_result"
    }
   ],
   "source": [
    "x2 = np.random.randint(0,10 ,(3,4))\n",
    "x2 "
   ]
  },
  {
   "cell_type": "code",
   "execution_count": 161,
   "id": "7ba80ef4",
   "metadata": {},
   "outputs": [
    {
     "data": {
      "text/plain": [
       "4"
      ]
     },
     "execution_count": 161,
     "metadata": {},
     "output_type": "execute_result"
    }
   ],
   "source": [
    "x2[1,2] # tính hàng cột bắt đầu từ 0"
   ]
  },
  {
   "cell_type": "code",
   "execution_count": 162,
   "id": "74b1325b",
   "metadata": {},
   "outputs": [],
   "source": [
    "x2[1,2] = 6 # update"
   ]
  },
  {
   "cell_type": "code",
   "execution_count": 163,
   "id": "71e41f91",
   "metadata": {},
   "outputs": [
    {
     "data": {
      "text/plain": [
       "array([[3, 0, 5, 0],\n",
       "       [1, 2, 6, 2],\n",
       "       [0, 3, 2, 0]])"
      ]
     },
     "execution_count": 163,
     "metadata": {},
     "output_type": "execute_result"
    }
   ],
   "source": [
    "x2"
   ]
  },
  {
   "cell_type": "markdown",
   "id": "f2d3c6d5",
   "metadata": {},
   "source": [
    "# slicing"
   ]
  },
  {
   "cell_type": "markdown",
   "id": "c9b3bcd4",
   "metadata": {},
   "source": [
    "#  x[start: stop : step]"
   ]
  },
  {
   "cell_type": "code",
   "execution_count": 164,
   "id": "76d78872",
   "metadata": {},
   "outputs": [
    {
     "data": {
      "text/plain": [
       "array([15, 15, 10, 11, 15, 19])"
      ]
     },
     "execution_count": 164,
     "metadata": {},
     "output_type": "execute_result"
    }
   ],
   "source": [
    "x1"
   ]
  },
  {
   "cell_type": "code",
   "execution_count": 165,
   "id": "8703c31a",
   "metadata": {},
   "outputs": [
    {
     "data": {
      "text/plain": [
       "array([15, 15, 10])"
      ]
     },
     "execution_count": 165,
     "metadata": {},
     "output_type": "execute_result"
    }
   ],
   "source": [
    "x1[0:3] # lấy 3 giá trị đầu tiên"
   ]
  },
  {
   "cell_type": "code",
   "execution_count": 166,
   "id": "63060b0f",
   "metadata": {},
   "outputs": [
    {
     "data": {
      "text/plain": [
       "array([15, 19])"
      ]
     },
     "execution_count": 166,
     "metadata": {},
     "output_type": "execute_result"
    }
   ],
   "source": [
    "x1[4:]"
   ]
  },
  {
   "cell_type": "code",
   "execution_count": 167,
   "id": "481aad33",
   "metadata": {},
   "outputs": [
    {
     "data": {
      "text/plain": [
       "array([15, 10, 15])"
      ]
     },
     "execution_count": 167,
     "metadata": {},
     "output_type": "execute_result"
    }
   ],
   "source": [
    "# cắt cách nhau 1 step\n",
    "x1[0:5:2]"
   ]
  },
  {
   "cell_type": "code",
   "execution_count": 168,
   "id": "cae6c8d1",
   "metadata": {},
   "outputs": [],
   "source": [
    "# cắt toàn bộ mảng cứ cách nhau 2 số là cắt "
   ]
  },
  {
   "cell_type": "code",
   "execution_count": 169,
   "id": "e6884c60",
   "metadata": {},
   "outputs": [
    {
     "data": {
      "text/plain": [
       "array([15, 11])"
      ]
     },
     "execution_count": 169,
     "metadata": {},
     "output_type": "execute_result"
    }
   ],
   "source": [
    "x1[::3]"
   ]
  },
  {
   "cell_type": "code",
   "execution_count": 170,
   "id": "af3d901c",
   "metadata": {},
   "outputs": [
    {
     "data": {
      "text/plain": [
       "array([[3, 0, 5, 0],\n",
       "       [1, 2, 6, 2],\n",
       "       [0, 3, 2, 0]])"
      ]
     },
     "execution_count": 170,
     "metadata": {},
     "output_type": "execute_result"
    }
   ],
   "source": [
    "x2"
   ]
  },
  {
   "cell_type": "code",
   "execution_count": 171,
   "id": "d74fade9",
   "metadata": {},
   "outputs": [
    {
     "data": {
      "text/plain": [
       "array([[3, 0, 5],\n",
       "       [1, 2, 6]])"
      ]
     },
     "execution_count": 171,
     "metadata": {},
     "output_type": "execute_result"
    }
   ],
   "source": [
    "x2[:2,:3] # 2 hàng ba cột.  lấy hai hàng đầu :2 và ba cột đầu ,:3"
   ]
  },
  {
   "cell_type": "code",
   "execution_count": 172,
   "id": "c1806467",
   "metadata": {},
   "outputs": [
    {
     "data": {
      "text/plain": [
       "array([[3, 0, 5, 0],\n",
       "       [1, 2, 6, 2]])"
      ]
     },
     "execution_count": 172,
     "metadata": {},
     "output_type": "execute_result"
    }
   ],
   "source": [
    "x2[:2:] # hai hàng đầu tiên "
   ]
  },
  {
   "cell_type": "code",
   "execution_count": 173,
   "id": "62970d73",
   "metadata": {},
   "outputs": [
    {
     "data": {
      "text/plain": [
       "array([[3, 0],\n",
       "       [1, 2],\n",
       "       [0, 3]])"
      ]
     },
     "execution_count": 173,
     "metadata": {},
     "output_type": "execute_result"
    }
   ],
   "source": [
    "x2[:,:2]  # ,: 2 cột đầu tiên"
   ]
  },
  {
   "cell_type": "markdown",
   "id": "af1272c8",
   "metadata": {},
   "source": [
    "# RESHAPING OF ARRAY & TRANSPOSE "
   ]
  },
  {
   "cell_type": "code",
   "execution_count": 174,
   "id": "c71534d7",
   "metadata": {},
   "outputs": [],
   "source": [
    "gir = np.arange(1,10)"
   ]
  },
  {
   "cell_type": "code",
   "execution_count": 175,
   "id": "a73c1a79",
   "metadata": {},
   "outputs": [
    {
     "name": "stdout",
     "output_type": "stream",
     "text": [
      "[1 2 3 4 5 6 7 8 9]\n"
     ]
    },
    {
     "data": {
      "text/plain": [
       "(9,)"
      ]
     },
     "execution_count": 175,
     "metadata": {},
     "output_type": "execute_result"
    }
   ],
   "source": [
    "print(gir)\n",
    "gir.shape"
   ]
  },
  {
   "cell_type": "code",
   "execution_count": 176,
   "id": "ec36e218",
   "metadata": {},
   "outputs": [
    {
     "data": {
      "text/plain": [
       "array([[1, 2, 3],\n",
       "       [4, 5, 6],\n",
       "       [7, 8, 9]])"
      ]
     },
     "execution_count": 176,
     "metadata": {},
     "output_type": "execute_result"
    }
   ],
   "source": [
    "gir.reshape(3,3)"
   ]
  },
  {
   "cell_type": "code",
   "execution_count": 177,
   "id": "c70438c2",
   "metadata": {},
   "outputs": [],
   "source": [
    "x = np.array([1,2,3])"
   ]
  },
  {
   "cell_type": "code",
   "execution_count": 178,
   "id": "73134041",
   "metadata": {},
   "outputs": [
    {
     "data": {
      "text/plain": [
       "array([1, 2, 3])"
      ]
     },
     "execution_count": 178,
     "metadata": {},
     "output_type": "execute_result"
    }
   ],
   "source": [
    "x"
   ]
  },
  {
   "cell_type": "code",
   "execution_count": 179,
   "id": "fcdd297d",
   "metadata": {},
   "outputs": [
    {
     "data": {
      "text/plain": [
       "array([[1, 2, 3]])"
      ]
     },
     "execution_count": 179,
     "metadata": {},
     "output_type": "execute_result"
    }
   ],
   "source": [
    "x.reshape(1,3) # tạo thành 1 ma trận 1*3"
   ]
  },
  {
   "cell_type": "markdown",
   "id": "3d31ca5f",
   "metadata": {},
   "source": [
    "#  Transpose"
   ]
  },
  {
   "cell_type": "code",
   "execution_count": 180,
   "id": "5f21834f",
   "metadata": {},
   "outputs": [],
   "source": [
    "x = np.array([[1,2,3,4] , [5,6,7,8]])"
   ]
  },
  {
   "cell_type": "code",
   "execution_count": 181,
   "id": "0b3bd6d5",
   "metadata": {},
   "outputs": [
    {
     "data": {
      "text/plain": [
       "array([[1, 2, 3, 4],\n",
       "       [5, 6, 7, 8]])"
      ]
     },
     "execution_count": 181,
     "metadata": {},
     "output_type": "execute_result"
    }
   ],
   "source": [
    "x"
   ]
  },
  {
   "cell_type": "code",
   "execution_count": 182,
   "id": "bc258820",
   "metadata": {},
   "outputs": [
    {
     "data": {
      "text/plain": [
       "array([[1, 5],\n",
       "       [2, 6],\n",
       "       [3, 7],\n",
       "       [4, 8]])"
      ]
     },
     "execution_count": 182,
     "metadata": {},
     "output_type": "execute_result"
    }
   ],
   "source": [
    "x.T # chuyển hàng thành cột , cột thành hàng\n"
   ]
  },
  {
   "cell_type": "markdown",
   "id": "87d6011d",
   "metadata": {},
   "source": [
    "# Array concatenation AND Splitting"
   ]
  },
  {
   "cell_type": "code",
   "execution_count": 183,
   "id": "fa36fb72",
   "metadata": {},
   "outputs": [],
   "source": [
    "# nối 2 aray lại với nhau \n",
    "x1 = np.array([1,2,3,4,5])\n",
    "x2 = np.array([5,6,7,8,9])\n"
   ]
  },
  {
   "cell_type": "code",
   "execution_count": 184,
   "id": "a08625c9",
   "metadata": {},
   "outputs": [
    {
     "data": {
      "text/plain": [
       "array([1, 2, 3, 4, 5, 5, 6, 7, 8, 9])"
      ]
     },
     "execution_count": 184,
     "metadata": {},
     "output_type": "execute_result"
    }
   ],
   "source": [
    "np.concatenate((x1,x2)) #nối theo hàng "
   ]
  },
  {
   "cell_type": "code",
   "execution_count": 185,
   "id": "7efec1da",
   "metadata": {},
   "outputs": [
    {
     "data": {
      "text/plain": [
       "array([[1, 2, 3],\n",
       "       [4, 5, 6]])"
      ]
     },
     "execution_count": 185,
     "metadata": {},
     "output_type": "execute_result"
    }
   ],
   "source": [
    "gird = np.array([[1,2,3]\n",
    "               ,[4,5,6]])\n",
    "gird"
   ]
  },
  {
   "cell_type": "code",
   "execution_count": 186,
   "id": "b4a48767",
   "metadata": {},
   "outputs": [
    {
     "data": {
      "text/plain": [
       "array([[1, 2, 3],\n",
       "       [4, 5, 6],\n",
       "       [1, 2, 3],\n",
       "       [4, 5, 6]])"
      ]
     },
     "execution_count": 186,
     "metadata": {},
     "output_type": "execute_result"
    }
   ],
   "source": [
    "np.concatenate((gird ,gird))"
   ]
  },
  {
   "cell_type": "code",
   "execution_count": 187,
   "id": "7142c478",
   "metadata": {},
   "outputs": [
    {
     "data": {
      "text/plain": [
       "array([[1, 2, 3, 1, 2, 3],\n",
       "       [4, 5, 6, 4, 5, 6]])"
      ]
     },
     "execution_count": 187,
     "metadata": {},
     "output_type": "execute_result"
    }
   ],
   "source": [
    "np.concatenate((gird ,gird), axis =1 )"
   ]
  },
  {
   "cell_type": "code",
   "execution_count": 188,
   "id": "6affa3b5",
   "metadata": {},
   "outputs": [
    {
     "data": {
      "text/plain": [
       "array([[3, 2, 1],\n",
       "       [8, 7, 6]])"
      ]
     },
     "execution_count": 188,
     "metadata": {},
     "output_type": "execute_result"
    }
   ],
   "source": [
    "# vstack\n",
    "x = np.array([[3,2,1]\n",
    "             ,[8,7,6]])\n",
    "x"
   ]
  },
  {
   "cell_type": "code",
   "execution_count": 189,
   "id": "066142ad",
   "metadata": {},
   "outputs": [
    {
     "data": {
      "text/plain": [
       "array([[3, 2, 1],\n",
       "       [8, 7, 6],\n",
       "       [1, 2, 3],\n",
       "       [4, 5, 6]])"
      ]
     },
     "execution_count": 189,
     "metadata": {},
     "output_type": "execute_result"
    }
   ],
   "source": [
    "np.vstack((x,gird)) # nối x vói gird"
   ]
  },
  {
   "cell_type": "code",
   "execution_count": 190,
   "id": "e4ac83b8",
   "metadata": {},
   "outputs": [
    {
     "data": {
      "text/plain": [
       "array([[3, 2, 1, 1, 2, 3],\n",
       "       [8, 7, 6, 4, 5, 6]])"
      ]
     },
     "execution_count": 190,
     "metadata": {},
     "output_type": "execute_result"
    }
   ],
   "source": [
    "#horizontally stack\n",
    "np.hstack((x,gird))"
   ]
  },
  {
   "cell_type": "markdown",
   "id": "65eb1910",
   "metadata": {},
   "source": [
    "# splitting of array "
   ]
  },
  {
   "cell_type": "code",
   "execution_count": 191,
   "id": "374d0b18",
   "metadata": {},
   "outputs": [
    {
     "data": {
      "text/plain": [
       "[array([2, 3, 4]), array([5, 6]), array([ 7,  8,  9, 10, 11])]"
      ]
     },
     "execution_count": 191,
     "metadata": {},
     "output_type": "execute_result"
    }
   ],
   "source": [
    "x = np.array([2,3,4,5,6,7,8,9,10,11])\n",
    "np.split(x,[3,5]) # tách ra làm 3 aray khác nhau "
   ]
  },
  {
   "cell_type": "code",
   "execution_count": 192,
   "id": "500da9cc",
   "metadata": {},
   "outputs": [],
   "source": [
    "x1 , x2 ,x3 = np.split(x,[5,7])"
   ]
  },
  {
   "cell_type": "code",
   "execution_count": 193,
   "id": "ca8bf06f",
   "metadata": {},
   "outputs": [
    {
     "data": {
      "text/plain": [
       "array([2, 3, 4, 5, 6])"
      ]
     },
     "execution_count": 193,
     "metadata": {},
     "output_type": "execute_result"
    }
   ],
   "source": [
    "x1"
   ]
  },
  {
   "cell_type": "code",
   "execution_count": 194,
   "id": "e08b0740",
   "metadata": {},
   "outputs": [
    {
     "data": {
      "text/plain": [
       "array([7, 8])"
      ]
     },
     "execution_count": 194,
     "metadata": {},
     "output_type": "execute_result"
    }
   ],
   "source": [
    "x2"
   ]
  },
  {
   "cell_type": "code",
   "execution_count": 195,
   "id": "8fc106f7",
   "metadata": {},
   "outputs": [
    {
     "data": {
      "text/plain": [
       "array([ 9, 10, 11])"
      ]
     },
     "execution_count": 195,
     "metadata": {},
     "output_type": "execute_result"
    }
   ],
   "source": [
    "x3"
   ]
  },
  {
   "cell_type": "markdown",
   "id": "4f9b58bf",
   "metadata": {},
   "source": [
    "# Broadcasting AND Vector operations"
   ]
  },
  {
   "cell_type": "code",
   "execution_count": 196,
   "id": "0af69159",
   "metadata": {},
   "outputs": [],
   "source": [
    "a = np.arange(3)"
   ]
  },
  {
   "cell_type": "code",
   "execution_count": 197,
   "id": "474d29ac",
   "metadata": {},
   "outputs": [
    {
     "data": {
      "text/plain": [
       "array([0, 1, 2])"
      ]
     },
     "execution_count": 197,
     "metadata": {},
     "output_type": "execute_result"
    }
   ],
   "source": [
    "a"
   ]
  },
  {
   "cell_type": "code",
   "execution_count": 198,
   "id": "8c5761bb",
   "metadata": {},
   "outputs": [
    {
     "data": {
      "text/plain": [
       "array([5, 6, 7])"
      ]
     },
     "execution_count": 198,
     "metadata": {},
     "output_type": "execute_result"
    }
   ],
   "source": [
    "a+5 # broadcasting"
   ]
  },
  {
   "cell_type": "code",
   "execution_count": 199,
   "id": "aa9f4dca",
   "metadata": {},
   "outputs": [],
   "source": [
    "b = np.ones([3,3] ,dtype = int)"
   ]
  },
  {
   "cell_type": "code",
   "execution_count": 200,
   "id": "642f4da8",
   "metadata": {},
   "outputs": [
    {
     "data": {
      "text/plain": [
       "array([[1, 1, 1],\n",
       "       [1, 1, 1],\n",
       "       [1, 1, 1]])"
      ]
     },
     "execution_count": 200,
     "metadata": {},
     "output_type": "execute_result"
    }
   ],
   "source": [
    "b"
   ]
  },
  {
   "cell_type": "code",
   "execution_count": 201,
   "id": "48b5aaa3",
   "metadata": {},
   "outputs": [
    {
     "data": {
      "text/plain": [
       "((3,), (3, 3))"
      ]
     },
     "execution_count": 201,
     "metadata": {},
     "output_type": "execute_result"
    }
   ],
   "source": [
    "a.shape , b.shape"
   ]
  },
  {
   "cell_type": "code",
   "execution_count": 202,
   "id": "a3edf07e",
   "metadata": {},
   "outputs": [
    {
     "data": {
      "text/plain": [
       "array([[1, 2, 3],\n",
       "       [1, 2, 3],\n",
       "       [1, 2, 3]])"
      ]
     },
     "execution_count": 202,
     "metadata": {},
     "output_type": "execute_result"
    }
   ],
   "source": [
    "a + b "
   ]
  },
  {
   "cell_type": "code",
   "execution_count": 203,
   "id": "0daed7e9",
   "metadata": {},
   "outputs": [
    {
     "data": {
      "text/plain": [
       "array([[0, 1, 2],\n",
       "       [0, 1, 2],\n",
       "       [0, 1, 2]])"
      ]
     },
     "execution_count": 203,
     "metadata": {},
     "output_type": "execute_result"
    }
   ],
   "source": [
    "a*b"
   ]
  },
  {
   "cell_type": "code",
   "execution_count": 204,
   "id": "34512626",
   "metadata": {},
   "outputs": [],
   "source": [
    "c = np.arange(4).reshape([4,1])"
   ]
  },
  {
   "cell_type": "code",
   "execution_count": 205,
   "id": "3b9ae78b",
   "metadata": {},
   "outputs": [
    {
     "data": {
      "text/plain": [
       "array([[0],\n",
       "       [1],\n",
       "       [2],\n",
       "       [3]])"
      ]
     },
     "execution_count": 205,
     "metadata": {},
     "output_type": "execute_result"
    }
   ],
   "source": [
    "c"
   ]
  },
  {
   "cell_type": "code",
   "execution_count": 206,
   "id": "bd4a77e7",
   "metadata": {},
   "outputs": [
    {
     "data": {
      "text/plain": [
       "array([[0, 1, 2],\n",
       "       [1, 2, 3],\n",
       "       [2, 3, 4],\n",
       "       [3, 4, 5]])"
      ]
     },
     "execution_count": 206,
     "metadata": {},
     "output_type": "execute_result"
    }
   ],
   "source": [
    "a+c\n"
   ]
  },
  {
   "cell_type": "markdown",
   "id": "d7b443f3",
   "metadata": {},
   "source": [
    "# Manipulating & Comparing Arrays"
   ]
  },
  {
   "cell_type": "code",
   "execution_count": 207,
   "id": "b3f55eb1",
   "metadata": {},
   "outputs": [
    {
     "data": {
      "text/plain": [
       "array([1, 2, 3])"
      ]
     },
     "execution_count": 207,
     "metadata": {},
     "output_type": "execute_result"
    }
   ],
   "source": [
    "# aggregation \n",
    "list_number = [1,2,3]\n",
    "ll = np.array(list_number)\n",
    "ll"
   ]
  },
  {
   "cell_type": "code",
   "execution_count": 208,
   "id": "59d5f75e",
   "metadata": {},
   "outputs": [
    {
     "data": {
      "text/plain": [
       "6"
      ]
     },
     "execution_count": 208,
     "metadata": {},
     "output_type": "execute_result"
    }
   ],
   "source": [
    "sum(ll) # python sum"
   ]
  },
  {
   "cell_type": "code",
   "execution_count": 209,
   "id": "5f0114e8",
   "metadata": {},
   "outputs": [
    {
     "data": {
      "text/plain": [
       "6"
      ]
     },
     "execution_count": 209,
     "metadata": {},
     "output_type": "execute_result"
    }
   ],
   "source": [
    "np.sum(ll) # python numpy"
   ]
  },
  {
   "cell_type": "code",
   "execution_count": 210,
   "id": "e98f844a",
   "metadata": {},
   "outputs": [
    {
     "data": {
      "text/plain": [
       "6"
      ]
     },
     "execution_count": 210,
     "metadata": {},
     "output_type": "execute_result"
    }
   ],
   "source": [
    "sum(list_number)"
   ]
  },
  {
   "cell_type": "code",
   "execution_count": 211,
   "id": "4651539e",
   "metadata": {},
   "outputs": [],
   "source": [
    "max_array = np.random.random(10000)"
   ]
  },
  {
   "cell_type": "code",
   "execution_count": 212,
   "id": "15782c32",
   "metadata": {},
   "outputs": [
    {
     "data": {
      "text/plain": [
       "array([0.60484552, 0.73926358, 0.03918779, 0.28280696, 0.12019656])"
      ]
     },
     "execution_count": 212,
     "metadata": {},
     "output_type": "execute_result"
    }
   ],
   "source": [
    "max_array [:5] # lấy 5 phần tử đầu tiên"
   ]
  },
  {
   "cell_type": "code",
   "execution_count": 213,
   "id": "081fa229",
   "metadata": {},
   "outputs": [
    {
     "data": {
      "text/plain": [
       "(10000,)"
      ]
     },
     "execution_count": 213,
     "metadata": {},
     "output_type": "execute_result"
    }
   ],
   "source": [
    "max_array.shape"
   ]
  },
  {
   "cell_type": "code",
   "execution_count": 214,
   "id": "d28bfb96",
   "metadata": {},
   "outputs": [
    {
     "name": "stdout",
     "output_type": "stream",
     "text": [
      "695 µs ± 24.2 µs per loop (mean ± std. dev. of 7 runs, 1000 loops each)\n",
      "6.71 µs ± 134 ns per loop (mean ± std. dev. of 7 runs, 100000 loops each)\n"
     ]
    }
   ],
   "source": [
    "%timeit sum(max_array) # python built_in function\n",
    "%timeit np.sum(max_array) # Numpy sum"
   ]
  },
  {
   "cell_type": "code",
   "execution_count": 215,
   "id": "c9c47f5d",
   "metadata": {},
   "outputs": [
    {
     "data": {
      "text/plain": [
       "0.49644077223750666"
      ]
     },
     "execution_count": 215,
     "metadata": {},
     "output_type": "execute_result"
    }
   ],
   "source": [
    "np.mean(max_array) # hàm trung bình"
   ]
  },
  {
   "cell_type": "code",
   "execution_count": 216,
   "id": "0c8a8fe1",
   "metadata": {},
   "outputs": [
    {
     "data": {
      "text/plain": [
       "0.9999779517807228"
      ]
     },
     "execution_count": 216,
     "metadata": {},
     "output_type": "execute_result"
    }
   ],
   "source": [
    "np.max(max_array) # hàm max "
   ]
  },
  {
   "cell_type": "code",
   "execution_count": 217,
   "id": "0bbd09fe",
   "metadata": {},
   "outputs": [
    {
     "data": {
      "text/plain": [
       "7.2449638492178e-05"
      ]
     },
     "execution_count": 217,
     "metadata": {},
     "output_type": "execute_result"
    }
   ],
   "source": [
    " np.min(max_array) # hàm min"
   ]
  },
  {
   "cell_type": "markdown",
   "id": "ad4ed83b",
   "metadata": {},
   "source": [
    "# statistics - Sác Xuất Thống Kê - Độ Lệch Chuẩn - Phương Sai "
   ]
  },
  {
   "cell_type": "code",
   "execution_count": 218,
   "id": "d582faae",
   "metadata": {},
   "outputs": [],
   "source": [
    "import numpy as np\n"
   ]
  },
  {
   "cell_type": "markdown",
   "id": "5be22430",
   "metadata": {},
   "source": [
    "# Standard Deviation And Variance - Độ lệch chuẩn \n",
    " là 1 thước đo , độ phân tán của dữu liệu (so với Min )"
   ]
  },
  {
   "cell_type": "code",
   "execution_count": 219,
   "id": "7c01ed51",
   "metadata": {},
   "outputs": [
    {
     "data": {
      "text/plain": [
       "147.32277488562318"
      ]
     },
     "execution_count": 219,
     "metadata": {},
     "output_type": "execute_result"
    }
   ],
   "source": [
    "dog_height = [600,170,300,470,430]\n",
    "dog_height = np.array(dog_height)\n",
    "np.std(dog_height) # độ lệch chuẩn = 600+170 +300 +470 +430 ) /5 = 147.32...."
   ]
  },
  {
   "cell_type": "code",
   "execution_count": null,
   "id": "ce3df003",
   "metadata": {},
   "outputs": [],
   "source": []
  },
  {
   "cell_type": "markdown",
   "id": "3c5dee96",
   "metadata": {},
   "source": [
    "# Variance - phương sai \n",
    "lấy từng cái dữ liệu 1 trừ cho giá trị trung bình ,sau đó bình phương rồi tính giá trị trung bình đó\n"
   ]
  },
  {
   "cell_type": "code",
   "execution_count": 220,
   "id": "7606c2a3",
   "metadata": {},
   "outputs": [
    {
     "data": {
      "text/plain": [
       "21704.0"
      ]
     },
     "execution_count": 220,
     "metadata": {},
     "output_type": "execute_result"
    }
   ],
   "source": [
    "np.var(dog_height)  # phương sai "
   ]
  },
  {
   "cell_type": "code",
   "execution_count": 221,
   "id": "094b8888",
   "metadata": {},
   "outputs": [
    {
     "data": {
      "text/plain": [
       "147.32277488562318"
      ]
     },
     "execution_count": 221,
     "metadata": {},
     "output_type": "execute_result"
    }
   ],
   "source": [
    "np.sqrt(np.var(dog_height))"
   ]
  },
  {
   "cell_type": "markdown",
   "id": "ca168b33",
   "metadata": {},
   "source": [
    "# shorrting array\n",
    "squick sorrt"
   ]
  },
  {
   "cell_type": "code",
   "execution_count": 222,
   "id": "f6d1fa5f",
   "metadata": {},
   "outputs": [],
   "source": [
    "x = np.array([1,45,23,4,3,52,324,453,342,34])"
   ]
  },
  {
   "cell_type": "code",
   "execution_count": 223,
   "id": "ebe0b2f4",
   "metadata": {},
   "outputs": [
    {
     "data": {
      "text/plain": [
       "array([  1,   3,   4,  23,  34,  45,  52, 324, 342, 453])"
      ]
     },
     "execution_count": 223,
     "metadata": {},
     "output_type": "execute_result"
    }
   ],
   "source": [
    "np.sort(x)"
   ]
  },
  {
   "cell_type": "code",
   "execution_count": 224,
   "id": "621afbc5",
   "metadata": {},
   "outputs": [
    {
     "data": {
      "text/plain": [
       "array([0, 4, 3, 2, 9, 1, 5, 6, 8, 7], dtype=int64)"
      ]
     },
     "execution_count": 224,
     "metadata": {},
     "output_type": "execute_result"
    }
   ],
   "source": [
    " np.argsort(x)  # indexx cua cac phan tu vd : 45 o vitri 1 thi indexx duoi ow vij tri 5 (nghĩa là số 1  bây giờ ở vị trí thứ 5 )"
   ]
  },
  {
   "cell_type": "markdown",
   "id": "56066531",
   "metadata": {},
   "source": [
    "# sorting along row"
   ]
  },
  {
   "cell_type": "code",
   "execution_count": 225,
   "id": "60c3461a",
   "metadata": {},
   "outputs": [],
   "source": [
    "np.random.seed(42) # 42 nghĩa là nếu seed(42) trên máy tính khác thì nó vẫn như nhau \n",
    "mat_a = np.random.randint(0,10,(4,6))"
   ]
  },
  {
   "cell_type": "code",
   "execution_count": 226,
   "id": "0344f6ab",
   "metadata": {},
   "outputs": [
    {
     "data": {
      "text/plain": [
       "array([[6, 3, 7, 4, 6, 9],\n",
       "       [2, 6, 7, 4, 3, 7],\n",
       "       [7, 2, 5, 4, 1, 7],\n",
       "       [5, 1, 4, 0, 9, 5]])"
      ]
     },
     "execution_count": 226,
     "metadata": {},
     "output_type": "execute_result"
    }
   ],
   "source": [
    "mat_a\n"
   ]
  },
  {
   "cell_type": "code",
   "execution_count": 227,
   "id": "b7a9a979",
   "metadata": {},
   "outputs": [
    {
     "data": {
      "text/plain": [
       "array([[2, 1, 4, 0, 1, 5],\n",
       "       [5, 2, 5, 4, 3, 7],\n",
       "       [6, 3, 7, 4, 6, 7],\n",
       "       [7, 6, 7, 4, 9, 9]])"
      ]
     },
     "execution_count": 227,
     "metadata": {},
     "output_type": "execute_result"
    }
   ],
   "source": [
    "np.sort(mat_a,axis =0) # sắp sếp theo cột axis = 0"
   ]
  },
  {
   "cell_type": "code",
   "execution_count": 228,
   "id": "3e36f87d",
   "metadata": {},
   "outputs": [
    {
     "data": {
      "text/plain": [
       "array([[2, 1, 4, 0, 1, 5],\n",
       "       [5, 2, 5, 4, 3, 7],\n",
       "       [6, 3, 7, 4, 6, 7],\n",
       "       [7, 6, 7, 4, 9, 9]])"
      ]
     },
     "execution_count": 228,
     "metadata": {},
     "output_type": "execute_result"
    }
   ],
   "source": [
    "np.sort(mat_a,axis =0) # sắp sếp theo hàng axis = 1"
   ]
  },
  {
   "cell_type": "markdown",
   "id": "efd08069",
   "metadata": {},
   "source": [
    "# LINEAR AIGEBRA"
   ]
  },
  {
   "cell_type": "code",
   "execution_count": 229,
   "id": "b5b80ecf",
   "metadata": {},
   "outputs": [],
   "source": [
    "#  HÀM NHÂN MA TRẬN\n",
    "A = np.array([[1,2,3]\n",
    "             ,[4,5,6]])\n",
    "B = np.array([[5,6]\n",
    "             ,[7,8]\n",
    "             ,[9,10]])"
   ]
  },
  {
   "cell_type": "code",
   "execution_count": 230,
   "id": "287bc463",
   "metadata": {},
   "outputs": [
    {
     "data": {
      "text/plain": [
       "array([[1, 2, 3],\n",
       "       [4, 5, 6]])"
      ]
     },
     "execution_count": 230,
     "metadata": {},
     "output_type": "execute_result"
    }
   ],
   "source": [
    "A"
   ]
  },
  {
   "cell_type": "code",
   "execution_count": 231,
   "id": "35ed27ac",
   "metadata": {},
   "outputs": [
    {
     "data": {
      "text/plain": [
       "array([[ 5,  6],\n",
       "       [ 7,  8],\n",
       "       [ 9, 10]])"
      ]
     },
     "execution_count": 231,
     "metadata": {},
     "output_type": "execute_result"
    }
   ],
   "source": [
    "B"
   ]
  },
  {
   "cell_type": "code",
   "execution_count": 232,
   "id": "c1683bac",
   "metadata": {},
   "outputs": [],
   "source": [
    "#  a nhân b = hàng trước nhân cột đứng sau , (c,a) nhân (a,d)\n",
    "#  công 2 ma trận thì 2 ma trận phải có cùng hàng ngang và hàng dọc"
   ]
  },
  {
   "cell_type": "code",
   "execution_count": 233,
   "id": "7b65ad65",
   "metadata": {},
   "outputs": [
    {
     "data": {
      "text/plain": [
       "array([[ 46,  52],\n",
       "       [109, 124]])"
      ]
     },
     "execution_count": 233,
     "metadata": {},
     "output_type": "execute_result"
    }
   ],
   "source": [
    "A.dot(B)"
   ]
  },
  {
   "cell_type": "code",
   "execution_count": 234,
   "id": "83582220",
   "metadata": {},
   "outputs": [
    {
     "data": {
      "text/plain": [
       "array([[ 46,  52],\n",
       "       [109, 124]])"
      ]
     },
     "execution_count": 234,
     "metadata": {},
     "output_type": "execute_result"
    }
   ],
   "source": [
    "# hoặc có thể nhân tích vô hướng \n",
    "A@B"
   ]
  },
  {
   "cell_type": "code",
   "execution_count": 235,
   "id": "99764097",
   "metadata": {},
   "outputs": [],
   "source": [
    "#  vd : (2,3) nhaan ma tran (3,5) = (2,5)\n",
    "c = np.array([[1,2,3]\n",
    "             ,[4,5,6]])\n",
    "D = np.array([[5,6,32,32,32]\n",
    "             ,[7,8,32,32,3]\n",
    "             ,[9,10,12,12,12]])"
   ]
  },
  {
   "cell_type": "code",
   "execution_count": 236,
   "id": "eb484013",
   "metadata": {},
   "outputs": [
    {
     "data": {
      "text/plain": [
       "array([[1, 2, 3],\n",
       "       [4, 5, 6]])"
      ]
     },
     "execution_count": 236,
     "metadata": {},
     "output_type": "execute_result"
    }
   ],
   "source": [
    "c"
   ]
  },
  {
   "cell_type": "code",
   "execution_count": 237,
   "id": "769f5dc3",
   "metadata": {},
   "outputs": [
    {
     "data": {
      "text/plain": [
       "array([[ 5,  6, 32, 32, 32],\n",
       "       [ 7,  8, 32, 32,  3],\n",
       "       [ 9, 10, 12, 12, 12]])"
      ]
     },
     "execution_count": 237,
     "metadata": {},
     "output_type": "execute_result"
    }
   ],
   "source": [
    "D\n"
   ]
  },
  {
   "cell_type": "code",
   "execution_count": 238,
   "id": "87e3ad50",
   "metadata": {},
   "outputs": [
    {
     "data": {
      "text/plain": [
       "array([[ 46,  52, 132, 132,  74],\n",
       "       [109, 124, 360, 360, 215]])"
      ]
     },
     "execution_count": 238,
     "metadata": {},
     "output_type": "execute_result"
    }
   ],
   "source": [
    "c@D"
   ]
  },
  {
   "cell_type": "code",
   "execution_count": 239,
   "id": "d3fe7cb9",
   "metadata": {},
   "outputs": [],
   "source": [
    "#  dot Produc EXample\n",
    "np.random.seed(0)\n",
    "sales = np.random.randint(0,20,(5,3))"
   ]
  },
  {
   "cell_type": "code",
   "execution_count": 240,
   "id": "507318af",
   "metadata": {},
   "outputs": [
    {
     "data": {
      "text/plain": [
       "array([[12, 15,  0],\n",
       "       [ 3,  3,  7],\n",
       "       [ 9, 19, 18],\n",
       "       [ 4,  6, 12],\n",
       "       [ 1,  6,  7]])"
      ]
     },
     "execution_count": 240,
     "metadata": {},
     "output_type": "execute_result"
    }
   ],
   "source": [
    "sales\n"
   ]
  },
  {
   "cell_type": "code",
   "execution_count": 241,
   "id": "1c40ebb9",
   "metadata": {},
   "outputs": [],
   "source": [
    "import pandas as pd\n",
    "weekly_sales = pd.DataFrame(sales , index = [\"mon\" , \"Tues\" , \"Wed\",\"Thus\" ,\"Fri\"] ,\n",
    "                           columns = [\"Almond Butter\" , \"Peanut Butter\", \"Cashew Butter\"])"
   ]
  },
  {
   "cell_type": "code",
   "execution_count": 242,
   "id": "cf554fcc",
   "metadata": {},
   "outputs": [
    {
     "data": {
      "text/html": [
       "<div>\n",
       "<style scoped>\n",
       "    .dataframe tbody tr th:only-of-type {\n",
       "        vertical-align: middle;\n",
       "    }\n",
       "\n",
       "    .dataframe tbody tr th {\n",
       "        vertical-align: top;\n",
       "    }\n",
       "\n",
       "    .dataframe thead th {\n",
       "        text-align: right;\n",
       "    }\n",
       "</style>\n",
       "<table border=\"1\" class=\"dataframe\">\n",
       "  <thead>\n",
       "    <tr style=\"text-align: right;\">\n",
       "      <th></th>\n",
       "      <th>Almond Butter</th>\n",
       "      <th>Peanut Butter</th>\n",
       "      <th>Cashew Butter</th>\n",
       "    </tr>\n",
       "  </thead>\n",
       "  <tbody>\n",
       "    <tr>\n",
       "      <th>mon</th>\n",
       "      <td>12</td>\n",
       "      <td>15</td>\n",
       "      <td>0</td>\n",
       "    </tr>\n",
       "    <tr>\n",
       "      <th>Tues</th>\n",
       "      <td>3</td>\n",
       "      <td>3</td>\n",
       "      <td>7</td>\n",
       "    </tr>\n",
       "    <tr>\n",
       "      <th>Wed</th>\n",
       "      <td>9</td>\n",
       "      <td>19</td>\n",
       "      <td>18</td>\n",
       "    </tr>\n",
       "    <tr>\n",
       "      <th>Thus</th>\n",
       "      <td>4</td>\n",
       "      <td>6</td>\n",
       "      <td>12</td>\n",
       "    </tr>\n",
       "    <tr>\n",
       "      <th>Fri</th>\n",
       "      <td>1</td>\n",
       "      <td>6</td>\n",
       "      <td>7</td>\n",
       "    </tr>\n",
       "  </tbody>\n",
       "</table>\n",
       "</div>"
      ],
      "text/plain": [
       "      Almond Butter  Peanut Butter  Cashew Butter\n",
       "mon              12             15              0\n",
       "Tues              3              3              7\n",
       "Wed               9             19             18\n",
       "Thus              4              6             12\n",
       "Fri               1              6              7"
      ]
     },
     "execution_count": 242,
     "metadata": {},
     "output_type": "execute_result"
    }
   ],
   "source": [
    "weekly_sales"
   ]
  },
  {
   "cell_type": "code",
   "execution_count": 243,
   "id": "b325bd57",
   "metadata": {},
   "outputs": [],
   "source": [
    "prices = np.array([10,12,15])\n",
    "butter_price = pd.DataFrame(prices.reshape(1,3) , index = [\"Price\"] , columns = [\" Almond Butter \",\"Peanut Butter\" , \"Cashew Butter\"])"
   ]
  },
  {
   "cell_type": "code",
   "execution_count": 244,
   "id": "af843a00",
   "metadata": {},
   "outputs": [
    {
     "data": {
      "text/html": [
       "<div>\n",
       "<style scoped>\n",
       "    .dataframe tbody tr th:only-of-type {\n",
       "        vertical-align: middle;\n",
       "    }\n",
       "\n",
       "    .dataframe tbody tr th {\n",
       "        vertical-align: top;\n",
       "    }\n",
       "\n",
       "    .dataframe thead th {\n",
       "        text-align: right;\n",
       "    }\n",
       "</style>\n",
       "<table border=\"1\" class=\"dataframe\">\n",
       "  <thead>\n",
       "    <tr style=\"text-align: right;\">\n",
       "      <th></th>\n",
       "      <th>Almond Butter</th>\n",
       "      <th>Peanut Butter</th>\n",
       "      <th>Cashew Butter</th>\n",
       "    </tr>\n",
       "  </thead>\n",
       "  <tbody>\n",
       "    <tr>\n",
       "      <th>Price</th>\n",
       "      <td>10</td>\n",
       "      <td>12</td>\n",
       "      <td>15</td>\n",
       "    </tr>\n",
       "  </tbody>\n",
       "</table>\n",
       "</div>"
      ],
      "text/plain": [
       "        Almond Butter   Peanut Butter  Cashew Butter\n",
       "Price               10             12             15"
      ]
     },
     "execution_count": 244,
     "metadata": {},
     "output_type": "execute_result"
    }
   ],
   "source": [
    "butter_price"
   ]
  },
  {
   "cell_type": "code",
   "execution_count": 245,
   "id": "a097139a",
   "metadata": {},
   "outputs": [
    {
     "data": {
      "text/plain": [
       "((5, 3), (3, 1))"
      ]
     },
     "execution_count": 245,
     "metadata": {},
     "output_type": "execute_result"
    }
   ],
   "source": [
    "weekly_sales.shape ,butter_price.T.shape"
   ]
  },
  {
   "cell_type": "code",
   "execution_count": 246,
   "id": "0bb6326f",
   "metadata": {},
   "outputs": [
    {
     "ename": "ValueError",
     "evalue": "matrices are not aligned",
     "output_type": "error",
     "traceback": [
      "\u001b[1;31m---------------------------------------------------------------------------\u001b[0m",
      "\u001b[1;31mValueError\u001b[0m                                Traceback (most recent call last)",
      "\u001b[1;32m~\\AppData\\Local\\Temp/ipykernel_12192/2662375421.py\u001b[0m in \u001b[0;36m<module>\u001b[1;34m\u001b[0m\n\u001b[1;32m----> 1\u001b[1;33m \u001b[0mtotal_price\u001b[0m \u001b[1;33m=\u001b[0m \u001b[0mweekly_sales\u001b[0m\u001b[1;33m.\u001b[0m\u001b[0mdot\u001b[0m\u001b[1;33m(\u001b[0m\u001b[0mbutter_price\u001b[0m\u001b[1;33m.\u001b[0m\u001b[0mT\u001b[0m\u001b[1;33m)\u001b[0m\u001b[1;33m\u001b[0m\u001b[1;33m\u001b[0m\u001b[0m\n\u001b[0m",
      "\u001b[1;32mC:\\ProgramData\\Anaconda3\\lib\\site-packages\\pandas\\core\\frame.py\u001b[0m in \u001b[0;36mdot\u001b[1;34m(self, other)\u001b[0m\n\u001b[0;32m   1444\u001b[0m             \u001b[0mcommon\u001b[0m \u001b[1;33m=\u001b[0m \u001b[0mself\u001b[0m\u001b[1;33m.\u001b[0m\u001b[0mcolumns\u001b[0m\u001b[1;33m.\u001b[0m\u001b[0munion\u001b[0m\u001b[1;33m(\u001b[0m\u001b[0mother\u001b[0m\u001b[1;33m.\u001b[0m\u001b[0mindex\u001b[0m\u001b[1;33m)\u001b[0m\u001b[1;33m\u001b[0m\u001b[1;33m\u001b[0m\u001b[0m\n\u001b[0;32m   1445\u001b[0m             \u001b[1;32mif\u001b[0m \u001b[0mlen\u001b[0m\u001b[1;33m(\u001b[0m\u001b[0mcommon\u001b[0m\u001b[1;33m)\u001b[0m \u001b[1;33m>\u001b[0m \u001b[0mlen\u001b[0m\u001b[1;33m(\u001b[0m\u001b[0mself\u001b[0m\u001b[1;33m.\u001b[0m\u001b[0mcolumns\u001b[0m\u001b[1;33m)\u001b[0m \u001b[1;32mor\u001b[0m \u001b[0mlen\u001b[0m\u001b[1;33m(\u001b[0m\u001b[0mcommon\u001b[0m\u001b[1;33m)\u001b[0m \u001b[1;33m>\u001b[0m \u001b[0mlen\u001b[0m\u001b[1;33m(\u001b[0m\u001b[0mother\u001b[0m\u001b[1;33m.\u001b[0m\u001b[0mindex\u001b[0m\u001b[1;33m)\u001b[0m\u001b[1;33m:\u001b[0m\u001b[1;33m\u001b[0m\u001b[1;33m\u001b[0m\u001b[0m\n\u001b[1;32m-> 1446\u001b[1;33m                 \u001b[1;32mraise\u001b[0m \u001b[0mValueError\u001b[0m\u001b[1;33m(\u001b[0m\u001b[1;34m\"matrices are not aligned\"\u001b[0m\u001b[1;33m)\u001b[0m\u001b[1;33m\u001b[0m\u001b[1;33m\u001b[0m\u001b[0m\n\u001b[0m\u001b[0;32m   1447\u001b[0m \u001b[1;33m\u001b[0m\u001b[0m\n\u001b[0;32m   1448\u001b[0m             \u001b[0mleft\u001b[0m \u001b[1;33m=\u001b[0m \u001b[0mself\u001b[0m\u001b[1;33m.\u001b[0m\u001b[0mreindex\u001b[0m\u001b[1;33m(\u001b[0m\u001b[0mcolumns\u001b[0m\u001b[1;33m=\u001b[0m\u001b[0mcommon\u001b[0m\u001b[1;33m,\u001b[0m \u001b[0mcopy\u001b[0m\u001b[1;33m=\u001b[0m\u001b[1;32mFalse\u001b[0m\u001b[1;33m)\u001b[0m\u001b[1;33m\u001b[0m\u001b[1;33m\u001b[0m\u001b[0m\n",
      "\u001b[1;31mValueError\u001b[0m: matrices are not aligned"
     ]
    }
   ],
   "source": [
    "total_price = weekly_sales.dot(butter_price.T)"
   ]
  },
  {
   "cell_type": "code",
   "execution_count": null,
   "id": "a0e69973",
   "metadata": {},
   "outputs": [],
   "source": [
    "import numpy as np\n",
    "s = np.array([[2,3,4] \n",
    "            ,[5,6,7]])\n",
    "y = np.array([[3,4,5]\n",
    "             ,[54,23,2]])\n",
    "print(s.shape ,\",\" ,y.shape) # ko dot() đc do mảng cùng ko có cùng chiều \n",
    "print(s.shape ,\",\",y.T.shape)\n",
    "s.dot(y.T)"
   ]
  },
  {
   "cell_type": "code",
   "execution_count": null,
   "id": "78cf2767",
   "metadata": {},
   "outputs": [],
   "source": [
    "total_price "
   ]
  },
  {
   "cell_type": "code",
   "execution_count": 126,
   "id": "5f137e62",
   "metadata": {},
   "outputs": [
    {
     "ename": "NameError",
     "evalue": "name 'total_price' is not defined",
     "output_type": "error",
     "traceback": [
      "\u001b[1;31m---------------------------------------------------------------------------\u001b[0m",
      "\u001b[1;31mNameError\u001b[0m                                 Traceback (most recent call last)",
      "\u001b[1;32m~\\AppData\\Local\\Temp/ipykernel_12192/1298380791.py\u001b[0m in \u001b[0;36m<module>\u001b[1;34m\u001b[0m\n\u001b[1;32m----> 1\u001b[1;33m \u001b[0mweekly_sales\u001b[0m\u001b[1;33m[\u001b[0m\u001b[1;34m\"Total Price\"\u001b[0m\u001b[1;33m]\u001b[0m \u001b[1;33m=\u001b[0m \u001b[0mtotal_price\u001b[0m\u001b[1;33m\u001b[0m\u001b[1;33m\u001b[0m\u001b[0m\n\u001b[0m\u001b[0;32m      2\u001b[0m \u001b[0mprint\u001b[0m\u001b[1;33m(\u001b[0m\u001b[0mweekly_sales\u001b[0m\u001b[1;33m)\u001b[0m\u001b[1;33m\u001b[0m\u001b[1;33m\u001b[0m\u001b[0m\n",
      "\u001b[1;31mNameError\u001b[0m: name 'total_price' is not defined"
     ]
    }
   ],
   "source": [
    "weekly_sales[\"Total Price\"] = total_price\n",
    "print(weekly_sales)"
   ]
  },
  {
   "cell_type": "code",
   "execution_count": null,
   "id": "2990db8a",
   "metadata": {},
   "outputs": [],
   "source": [
    "\n",
    "diem = np.array([[2,3,4],[3,5,6]])\n",
    "ds = pd.DataFrame(diem,index =['0','1' ] , columns=[\"sang\", \"tri\", \"toan\"])"
   ]
  },
  {
   "cell_type": "code",
   "execution_count": null,
   "id": "8b5b7bde",
   "metadata": {},
   "outputs": [],
   "source": [
    "print(ds)"
   ]
  },
  {
   "cell_type": "code",
   "execution_count": null,
   "id": "7657288e",
   "metadata": {},
   "outputs": [],
   "source": []
  },
  {
   "cell_type": "code",
   "execution_count": null,
   "id": "3436acf5",
   "metadata": {},
   "outputs": [],
   "source": []
  }
 ],
 "metadata": {
  "kernelspec": {
   "display_name": "Python 3 (ipykernel)",
   "language": "python",
   "name": "python3"
  },
  "language_info": {
   "codemirror_mode": {
    "name": "ipython",
    "version": 3
   },
   "file_extension": ".py",
   "mimetype": "text/x-python",
   "name": "python",
   "nbconvert_exporter": "python",
   "pygments_lexer": "ipython3",
   "version": "3.9.7"
  }
 },
 "nbformat": 4,
 "nbformat_minor": 5
}
